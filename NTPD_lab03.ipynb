{
 "cells": [
  {
   "cell_type": "markdown",
   "metadata": {},
   "source": [
    "<div style=\"background-color: #1C1C1C; color: #E3E3E3; padding: 20px; border-radius: 5px;\">\n",
    "\n",
    "# Laboratorium 4\n",
    "## Nowoczesne Technologie Przetwarzania Danych\n",
    "### Docker i konteneryzacja modelu ML\n",
    "\n",
    "---\n",
    "\n",
    "**Student:** Wiktor Lewandowski  \n",
    "**Nr indeksu:** 120651  \n",
    "**Grupa:** 3\n",
    "\n",
    "</div>"
   ]
  },
  {
   "cell_type": "markdown",
   "metadata": {},
   "source": [
    "<div style=\"background-color: #2E2E2E; color: #FFF; padding: 20px; border-radius: 5px;\">\n",
    "\n",
    "### Zadanie 1. Przygotowanie aplikacji API\n",
    "\n",
    "</div>"
   ]
  },
  {
   "cell_type": "markdown",
   "metadata": {},
   "source": [
    "Utworzyłem plik `requirements.txt`, który zawiera listę paczek potrzebnych do uruchomienia aplikacji:\n",
    "\n",
    "   **Zawartość requirements.txt:**\n",
    "   ```bash\n",
    "   numpy\n",
    "   fastapi\n",
    "   pydantic\n",
    "   scikit-learn\n",
    "   uvicorn\n",
    "   ```\n",
    "\n",
    "Następnie utworzyłem nowe wirtualne środowisko `venv` i zainstalowałem zależności za pomocą poniższej komendy:\n",
    "\n",
    "   ```bash\n",
    "   pip install -r requirements.txt\n",
    "   ```"
   ]
  },
  {
   "cell_type": "markdown",
   "metadata": {},
   "source": [
    "<div style=\"background-color: #2E2E2E; color: #FFF; padding: 20px; border-radius: 5px;\">\n",
    "\n",
    "### Zadanie 2. Dockerfile i budowa obrazu\n",
    "\n",
    "</div>"
   ]
  },
  {
   "cell_type": "markdown",
   "metadata": {},
   "source": [
    "Utworzyłem plik `Dockerfile`:\n",
    "\n",
    "```dockerfile\n",
    "FROM python:3.9-slim\n",
    "\n",
    "WORKDIR /app\n",
    "\n",
    "COPY app.py /app/\n",
    "COPY requirements.txt /app/\n",
    "\n",
    "RUN pip install --no-cache-dir -r requirements.txt\n",
    "\n",
    "EXPOSE 8000\n",
    "\n",
    "CMD [\"uvicorn\", \"app:app\", \"--host\", \"0.0.0.0\", \"--port\", \"8000\"]\n",
    "```\n",
    "\n",
    "Aby zbudować obraz Dockera, użyłem poniższej komendy:\n",
    "\n",
    "```bash\n",
    "docker build -t my-ml-app .\n",
    "```"
   ]
  },
  {
   "cell_type": "markdown",
   "metadata": {},
   "source": [
    "<div style=\"background-color: #2E2E2E; color: #FFF; padding: 20px; border-radius: 5px;\">\n",
    "\n",
    "### Zadanie 3. Uruchamianie kontenera i testowanie endpointu\n",
    "\n",
    "</div>"
   ]
  },
  {
   "cell_type": "markdown",
   "metadata": {},
   "source": [
    "Uruchomiłem kontener za pomocą komendy:\n",
    "\n",
    "```bash\n",
    "docker run -p 8000:8000 my-ml-app\n",
    "```\n",
    "\n",
    "![image.png](https://scontent-waw2-2.xx.fbcdn.net/v/t1.15752-9/487766022_652466554276346_1618025109075308069_n.png?_nc_cat=101&ccb=1-7&_nc_sid=9f807c&_nc_ohc=pV0wmFusRaMQ7kNvgEEE_VR&_nc_oc=Adn-aVYx7eZsKE9pv50N-9-07FE_OuDterunPMpjuFJWhW7EqwVka0w9JiPBWb0X_GQ&_nc_zt=23&_nc_ht=scontent-waw2-2.xx&oh=03_Q7cD1wFzzJCMsMCEwhwxshONa8OQHkqUgLkvjLyaTKPYYufpUw&oe=68151387)"
   ]
  },
  {
   "cell_type": "markdown",
   "metadata": {},
   "source": [
    "Przetestowałem endpoint `/predict` curl'em:\n",
    "\n",
    "![image.png](https://scontent-waw2-2.xx.fbcdn.net/v/t1.15752-9/488887271_594230043075918_3802918349087636749_n.png?_nc_cat=102&ccb=1-7&_nc_sid=9f807c&_nc_ohc=KtFDSO1dJoQQ7kNvgEUh_vv&_nc_oc=AdkmgWYagTDU4zJ8pCikw5vj8hnDI5aRLHDd0vDi3axQh1b0asYU5JSKPirpScD8038&_nc_zt=23&_nc_ht=scontent-waw2-2.xx&oh=03_Q7cD1wGUzUTyxz7gKbaxSAVR6gvrAH-g0jjOxCpW-c6CX1p_Mg&oe=68153233)"
   ]
  },
  {
   "cell_type": "markdown",
   "metadata": {},
   "source": [
    "<div style=\"background-color: #2E2E2E; color: #FFF; padding: 20px; border-radius: 5px;\">\n",
    "\n",
    "### Zadanie 4. Konfiguracja Docker Compose\n",
    "\n",
    "</div>"
   ]
  },
  {
   "cell_type": "markdown",
   "metadata": {},
   "source": [
    "Utworzyłem plik `docker-compose.yml` z aplikacją oraz bazą danych PostgreSQL:\n",
    "\n",
    "```yml\n",
    "version: \"3.9\"\n",
    "\n",
    "services:\n",
    "  app:\n",
    "    build:\n",
    "      context: .\n",
    "      dockerfile: Dockerfile\n",
    "    container_name: ml_app\n",
    "    ports:\n",
    "      - \"8000:8000\"\n",
    "    networks:\n",
    "      - app_network\n",
    "    depends_on:\n",
    "      - db\n",
    "\n",
    "  db:\n",
    "    image: postgres:13\n",
    "    container_name: postgres_db\n",
    "    environment:\n",
    "      POSTGRES_USER: user\n",
    "      POSTGRES_PASSWORD: password\n",
    "      POSTGRES_DB: ml_database\n",
    "    ports:\n",
    "      - \"5432:5432\"\n",
    "    networks:\n",
    "      - app_network\n",
    "\n",
    "networks:\n",
    "  app_network:\n",
    "    driver: bridge\n",
    "```"
   ]
  },
  {
   "cell_type": "markdown",
   "metadata": {},
   "source": [
    "Uruchomiłem kontenery poprzez komendę:\n",
    "```bash\n",
    "docker-compose up --build\n",
    "```"
   ]
  },
  {
   "cell_type": "markdown",
   "metadata": {},
   "source": [
    "<div style=\"background-color: #2E2E2E; color: #FFF; padding: 20px; border-radius: 5px;\">\n",
    "\n",
    "### Zadanie 5. Uruchomienie aplikacji w trybie produkcyjnym\n",
    "\n",
    "</div>"
   ]
  }
 ],
 "metadata": {
  "kernelspec": {
   "display_name": "venv",
   "language": "python",
   "name": "python3"
  },
  "language_info": {
   "codemirror_mode": {
    "name": "ipython",
    "version": 3
   },
   "file_extension": ".py",
   "mimetype": "text/x-python",
   "name": "python",
   "nbconvert_exporter": "python",
   "pygments_lexer": "ipython3",
   "version": "3.13.1"
  }
 },
 "nbformat": 4,
 "nbformat_minor": 2
}
